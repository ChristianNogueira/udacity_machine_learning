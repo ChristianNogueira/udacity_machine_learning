{
 "cells": [
  {
   "cell_type": "code",
   "execution_count": 1,
   "metadata": {},
   "outputs": [],
   "source": [
    "#!/usr/bin/python\n",
    "\n",
    "import sys\n",
    "import pickle\n",
    "import json\n",
    "import pandas as pd\n",
    "import numpy as np\n",
    "sys.path.append(\"../tools/\")\n",
    "\n",
    "from feature_format import featureFormat, targetFeatureSplit\n",
    "from tester import dump_classifier_and_data"
   ]
  },
  {
   "cell_type": "code",
   "execution_count": 3,
   "metadata": {},
   "outputs": [],
   "source": [
    "### Load the dictionary containing the dataset\n",
    "# pickle compatible with python3\n",
    "with open(\"final_project_dataset_python3.pkl\", \"rb\") as data_file:\n",
    "    data_dict = pickle.load(data_file)"
   ]
  },
  {
   "cell_type": "markdown",
   "metadata": {},
   "source": [
    "### Tarefa 2: Análise das Características e Remoção de Outliers\n",
    "\n",
    "Para manter os dados ainda compatíveis com o `tester.py` na análise será\n",
    "realizado sobre um dataframe, porém posteriormente será aplicado os ajustes\n",
    "no dicionário."
   ]
  },
  {
   "cell_type": "code",
   "execution_count": 4,
   "metadata": {},
   "outputs": [
    {
     "name": "stdout",
     "output_type": "stream",
     "text": [
      "(146, 21)\n",
      "bonus                        object\n",
      "deferral_payments            object\n",
      "deferred_income              object\n",
      "director_fees                object\n",
      "email_address                object\n",
      "exercised_stock_options      object\n",
      "expenses                     object\n",
      "from_messages                object\n",
      "from_poi_to_this_person      object\n",
      "from_this_person_to_poi      object\n",
      "loan_advances                object\n",
      "long_term_incentive          object\n",
      "other                        object\n",
      "poi                          object\n",
      "restricted_stock             object\n",
      "restricted_stock_deferred    object\n",
      "salary                       object\n",
      "shared_receipt_with_poi      object\n",
      "to_messages                  object\n",
      "total_payments               object\n",
      "total_stock_value            object\n",
      "dtype: object\n"
     ]
    }
   ],
   "source": [
    "data_df = pd.DataFrame.from_dict(data_dict).T\n",
    "\n",
    "print(data_df.shape)\n",
    "print(data_df.dtypes)"
   ]
  },
  {
   "cell_type": "markdown",
   "metadata": {},
   "source": [
    "Todos os campos são importados como strings, assim para uma avaliação dos\n",
    "outliers primeiro temos que converter os campos para numéricos."
   ]
  },
  {
   "cell_type": "code",
   "execution_count": 5,
   "metadata": {},
   "outputs": [
    {
     "name": "stdout",
     "output_type": "stream",
     "text": [
      "                           count          mean           std         min  \\\n",
      "bonus                       82.0  2.374235e+06  1.071333e+07     70000.0   \n",
      "deferral_payments           39.0  1.642674e+06  5.161930e+06   -102500.0   \n",
      "deferred_income             49.0 -1.140475e+06  4.025406e+06 -27992891.0   \n",
      "director_fees               17.0  1.668049e+05  3.198914e+05      3285.0   \n",
      "exercised_stock_options    102.0  5.987054e+06  3.106201e+07      3285.0   \n",
      "expenses                    95.0  1.087289e+05  5.335348e+05       148.0   \n",
      "from_messages               86.0  6.087907e+02  1.841034e+03        12.0   \n",
      "from_poi_to_this_person     86.0  6.489535e+01  8.697924e+01         0.0   \n",
      "from_this_person_to_poi     86.0  4.123256e+01  1.000731e+02         0.0   \n",
      "loan_advances                4.0  4.196250e+07  4.708321e+07    400000.0   \n",
      "long_term_incentive         66.0  1.470361e+06  5.942759e+06     69223.0   \n",
      "other                       93.0  9.190650e+05  4.589253e+06         2.0   \n",
      "restricted_stock           110.0  2.321741e+06  1.251828e+07  -2604490.0   \n",
      "restricted_stock_deferred   18.0  1.664106e+05  4.201494e+06  -7576788.0   \n",
      "salary                      95.0  5.621943e+05  2.716369e+06       477.0   \n",
      "shared_receipt_with_poi     86.0  1.176465e+03  1.178318e+03         2.0   \n",
      "to_messages                 86.0  2.073860e+03  2.582701e+03        57.0   \n",
      "total_payments             125.0  5.081526e+06  2.906172e+07       148.0   \n",
      "total_stock_value          126.0  6.773957e+06  3.895777e+07    -44093.0   \n",
      "\n",
      "                                  25%         50%          75%          max  \n",
      "bonus                       431250.00    769375.0   1200000.00   97343619.0  \n",
      "deferral_payments            81573.00    227449.0   1002671.50   32083396.0  \n",
      "deferred_income            -694862.00   -159792.0    -38346.00       -833.0  \n",
      "director_fees                98784.00    108579.0    113784.00    1398517.0  \n",
      "exercised_stock_options     527886.25   1310813.5   2547724.00  311764000.0  \n",
      "expenses                     22614.00     46950.0     79952.50    5235198.0  \n",
      "from_messages                   22.75        41.0       145.50      14368.0  \n",
      "from_poi_to_this_person         10.00        35.0        72.25        528.0  \n",
      "from_this_person_to_poi          1.00         8.0        24.75        609.0  \n",
      "loan_advances              1600000.00  41762500.0  82125000.00   83925000.0  \n",
      "long_term_incentive         281250.00    442035.0    938672.00   48521928.0  \n",
      "other                         1215.00     52382.0    362096.00   42667589.0  \n",
      "restricted_stock            254018.00    451740.0   1002369.75  130322299.0  \n",
      "restricted_stock_deferred  -389621.75   -146975.0    -75009.75   15456290.0  \n",
      "salary                      211816.00    259996.0    312117.00   26704229.0  \n",
      "shared_receipt_with_poi        249.75       740.5      1888.25       5521.0  \n",
      "to_messages                    541.25      1211.0      2634.75      15149.0  \n",
      "total_payments              394475.00   1101393.0   2093263.00  309886585.0  \n",
      "total_stock_value           494510.25   1102872.5   2949846.75  434509511.0  \n"
     ]
    }
   ],
   "source": [
    "# select columns that are not numbers\n",
    "cols_string = ['email_address', 'poi']\n",
    "cols = list(data_df)\n",
    "\n",
    "# from all columns, select all that are not numbers\n",
    "cols_numeric = np.setdiff1d(cols, cols_string)\n",
    "\n",
    "# transform to numbers, when 'NaN' will become NaN\n",
    "data_df[cols_numeric] = data_df[cols_numeric].apply(pd.to_numeric, errors='coerce')\n",
    "data_df['poi'] = data_df['poi'].astype('bool')\n",
    "print(data_df.describe().T)"
   ]
  },
  {
   "cell_type": "markdown",
   "metadata": {},
   "source": [
    "Pode ser notado que algumas das variáveis não podemos utilizar pela grande\n",
    "quantidade de informação faltando"
   ]
  },
  {
   "cell_type": "code",
   "execution_count": 6,
   "metadata": {},
   "outputs": [],
   "source": [
    "def tag_outlier(df, columns):\n",
    "    \"\"\" Identify possibles outliers\n",
    "    Args:\n",
    "        variable: pandas dataframe\n",
    "    Returns:\n",
    "        row index\n",
    "    Raises:\n",
    "    \"\"\"\n",
    "    def column_outlier_eval(variable):\n",
    "        q1, q3 = variable.quantile([.25, .75])\n",
    "        inter_q = q3 - q1\n",
    "        max_val = q3 + 5 * inter_q\n",
    "        min_val = q1 - 5 * inter_q\n",
    "        return variable[(variable > max_val) | (variable < min_val)].index\n",
    "\n",
    "    rows_to_look = []\n",
    "    for var in columns:\n",
    "        rows_to_look.append(list(column_outlier_eval(df[var])))\n",
    "\n",
    "    possible_outlier = np.unique([j for i in rows_to_look for j in i])\n",
    "    return possible_outlier"
   ]
  },
  {
   "cell_type": "code",
   "execution_count": 7,
   "metadata": {},
   "outputs": [
    {
     "data": {
      "text/plain": [
       "array(['ALLEN PHILLIP K', 'BAXTER JOHN C', 'BECK SALLY W',\n",
       "       'BELDEN TIMOTHY N', 'BELFER ROBERT', 'BHATNAGAR SANJAY',\n",
       "       'BUY RICHARD B', 'DELAINEY DAVID W', 'DERRICK JR. JAMES V',\n",
       "       'FREVERT MARK A', 'HAEDICKE MARK E', 'HAYSLETT RODERICK J',\n",
       "       'HIRKO JOSEPH', 'HORTON STANLEY C', 'KAMINSKI WINCENTY J',\n",
       "       'KEAN STEVEN J', 'KITCHEN LOUISE', 'LAVORATO JOHN J',\n",
       "       'LAY KENNETH L', 'MARTIN AMANDA K', 'MCCONNELL MICHAEL S',\n",
       "       'PAI LOU L', 'POWERS WILLIAM', 'RICE KENNETH D',\n",
       "       'SHANKMAN JEFFREY A', 'SHAPIRO RICHARD S', 'SKILLING JEFFREY K',\n",
       "       'TOTAL', 'WHITE JR THOMAS E'],\n",
       "      dtype='<U19')"
      ]
     },
     "execution_count": 7,
     "metadata": {},
     "output_type": "execute_result"
    }
   ],
   "source": [
    "tag_outlier(data_df, cols_numeric)"
   ]
  },
  {
   "cell_type": "markdown",
   "metadata": {},
   "source": [
    "Observando os dados podemos observar o aparecimento de uma pessoa chamada\n",
    "`TOTAL` o que nos aponta para um povável erro de digitação que podemos\n",
    "eliminar dos dados."
   ]
  },
  {
   "cell_type": "code",
   "execution_count": 8,
   "metadata": {},
   "outputs": [],
   "source": [
    "for outlier in ['TOTAL','THE TRAVEL AGENCY IN THE PARK']:\n",
    "    data_dict.pop(outlier, 0)"
   ]
  },
  {
   "cell_type": "markdown",
   "metadata": {},
   "source": [
    "### Criação de Novas Variáveis"
   ]
  },
  {
   "cell_type": "code",
   "execution_count": null,
   "metadata": {},
   "outputs": [],
   "source": [
    "for item in data_dict:\n",
    "    pass"
   ]
  },
  {
   "cell_type": "markdown",
   "metadata": {},
   "source": [
    "### Escala das variáveis\n",
    "\n",
    "Os dados apresentam grandes variações de magnitude, assim será aplicado um\n",
    "escalonamento das variáveis para que não afete os modelos sensiveis a essas\n",
    "variações."
   ]
  },
  {
   "cell_type": "markdown",
   "metadata": {},
   "source": [
    "### Seleção das Variáveis"
   ]
  },
  {
   "cell_type": "code",
   "execution_count": 2,
   "metadata": {},
   "outputs": [],
   "source": [
    "### features_list is a list of strings, each of which is a feature name.\n",
    "### The first feature must be \"poi\".\n",
    "features_list = ['poi','salary']"
   ]
  },
  {
   "cell_type": "code",
   "execution_count": null,
   "metadata": {},
   "outputs": [],
   "source": [
    "### Store to my_dataset for easy export below.\n",
    "my_dataset = data_dict"
   ]
  },
  {
   "cell_type": "code",
   "execution_count": null,
   "metadata": {},
   "outputs": [],
   "source": [
    "### Extract features and labels from dataset for local testing\n",
    "data = featureFormat(my_dataset, features_list, sort_keys = True)\n",
    "labels, features = targetFeatureSplit(data)"
   ]
  },
  {
   "cell_type": "markdown",
   "metadata": {},
   "source": [
    "### Aplicação de Classificadores"
   ]
  },
  {
   "cell_type": "code",
   "execution_count": null,
   "metadata": {},
   "outputs": [],
   "source": [
    "### Please name your classifier clf for easy export below.\n",
    "\n",
    "# Provided to give you a starting point. Try a variety of classifiers.\n",
    "from sklearn.naive_bayes import GaussianNB\n",
    "clf = GaussianNB()"
   ]
  },
  {
   "cell_type": "markdown",
   "metadata": {},
   "source": [
    "### Melhora do Modelo pelos Parâmetros"
   ]
  },
  {
   "cell_type": "code",
   "execution_count": 88,
   "metadata": {},
   "outputs": [
    {
     "name": "stderr",
     "output_type": "stream",
     "text": [
      "c:\\python36\\lib\\site-packages\\sklearn\\cross_validation.py:41: DeprecationWarning: This module was deprecated in version 0.18 in favor of the model_selection module into which all the refactored classes and functions are moved. Also note that the interface of the new CV iterators are different from that of this module. This module will be removed in 0.20.\n",
      "  \"This module will be removed in 0.20.\", DeprecationWarning)\n"
     ]
    },
    {
     "ename": "NameError",
     "evalue": "name 'features' is not defined",
     "output_type": "error",
     "traceback": [
      "\u001b[1;31m---------------------------------------------------------------------------\u001b[0m",
      "\u001b[1;31mNameError\u001b[0m                                 Traceback (most recent call last)",
      "\u001b[1;32m<ipython-input-88-ea81bf7bbe70>\u001b[0m in \u001b[0;36m<module>\u001b[1;34m()\u001b[0m\n\u001b[0;32m      8\u001b[0m \u001b[1;31m# Example starting point. Try investigating other evaluation techniques!\u001b[0m\u001b[1;33m\u001b[0m\u001b[1;33m\u001b[0m\u001b[0m\n\u001b[0;32m      9\u001b[0m \u001b[1;32mfrom\u001b[0m \u001b[0msklearn\u001b[0m\u001b[1;33m.\u001b[0m\u001b[0mcross_validation\u001b[0m \u001b[1;32mimport\u001b[0m \u001b[0mtrain_test_split\u001b[0m\u001b[1;33m\u001b[0m\u001b[0m\n\u001b[1;32m---> 10\u001b[1;33m \u001b[0mfeatures_train\u001b[0m\u001b[1;33m,\u001b[0m \u001b[0mfeatures_test\u001b[0m\u001b[1;33m,\u001b[0m \u001b[0mlabels_train\u001b[0m\u001b[1;33m,\u001b[0m \u001b[0mlabels_test\u001b[0m \u001b[1;33m=\u001b[0m     \u001b[0mtrain_test_split\u001b[0m\u001b[1;33m(\u001b[0m\u001b[0mfeatures\u001b[0m\u001b[1;33m,\u001b[0m \u001b[0mlabels\u001b[0m\u001b[1;33m,\u001b[0m \u001b[0mtest_size\u001b[0m\u001b[1;33m=\u001b[0m\u001b[1;36m0.3\u001b[0m\u001b[1;33m,\u001b[0m \u001b[0mrandom_state\u001b[0m\u001b[1;33m=\u001b[0m\u001b[1;36m42\u001b[0m\u001b[1;33m)\u001b[0m\u001b[1;33m\u001b[0m\u001b[0m\n\u001b[0m",
      "\u001b[1;31mNameError\u001b[0m: name 'features' is not defined"
     ]
    }
   ],
   "source": [
    "### Tune your classifier to achieve better than .3 precision and recall \n",
    "### using our testing script. Check the tester.py script in the final project\n",
    "### folder for details on the evaluation method, especially the test_classifier\n",
    "### function.\n",
    "\n",
    "# Example starting point. Try investigating other evaluation techniques!\n",
    "from sklearn.model_selection import train_test_split\n",
    "features_train, features_test, labels_train, labels_test = \\\n",
    "    train_test_split(features, labels, test_size=0.3, random_state=42)"
   ]
  },
  {
   "cell_type": "markdown",
   "metadata": {},
   "source": [
    "### Salvar os Resultados "
   ]
  },
  {
   "cell_type": "code",
   "execution_count": null,
   "metadata": {},
   "outputs": [],
   "source": [
    "dump_classifier_and_data(clf, my_dataset, features_list)"
   ]
  }
 ],
 "metadata": {
  "kernelspec": {
   "display_name": "Python 3",
   "language": "python",
   "name": "python3"
  },
  "language_info": {
   "codemirror_mode": {
    "name": "ipython",
    "version": 3
   },
   "file_extension": ".py",
   "mimetype": "text/x-python",
   "name": "python",
   "nbconvert_exporter": "python",
   "pygments_lexer": "ipython3",
   "version": "3.6.3"
  }
 },
 "nbformat": 4,
 "nbformat_minor": 2
}
